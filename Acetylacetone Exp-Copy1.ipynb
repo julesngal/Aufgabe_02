{
 "cells": [
  {
   "cell_type": "code",
   "execution_count": 265,
   "metadata": {},
   "outputs": [],
   "source": [
    "from simtk.openmm.app import *\n",
    "from openforcefield.utils import *"
   ]
  },
  {
   "cell_type": "code",
   "execution_count": 266,
   "metadata": {},
   "outputs": [
    {
     "name": "stdout",
     "output_type": "stream",
     "text": [
      "Help on function get_data_file_path in module openforcefield.utils.utils:\n",
      "\n",
      "get_data_file_path(relative_path)\n",
      "    Get the full path to one of the reference files in testsystems.\n",
      "    In the source distribution, these files are in ``openforcefield/data/``,\n",
      "    but on installation, they're moved to somewhere in the user's python\n",
      "    site-packages directory.\n",
      "    Parameters\n",
      "    ----------\n",
      "    name : str\n",
      "        Name of the file to load (with respect to the repex folder).\n",
      "\n"
     ]
    }
   ],
   "source": [
    "help (get_data_file_path)"
   ]
  },
  {
   "cell_type": "code",
   "execution_count": 267,
   "metadata": {},
   "outputs": [],
   "source": [
    "pdb_file_path = get_data_file_path ('Acetylacetone.pdb')\n",
    "pdbfile = PDBFile (pdb_file_path)\n",
    "\n",
    "# I got the pdb file from\n",
    "# https://www.ebi.ac.uk/pdbe-srv/pdbechem/chemicalCompound/show/P2D\n",
    "# renamed it, then I manually moved it to the data directory of openforcefield."
   ]
  },
  {
   "cell_type": "code",
   "execution_count": 268,
   "metadata": {},
   "outputs": [
    {
     "name": "stdout",
     "output_type": "stream",
     "text": [
      "Molecule with name '' and SMILES '[H][C]([H])([H])[C](=[O])[C]([H])([H])[C](=[O])[C]([H])([H])[H]'\n"
     ]
    }
   ],
   "source": [
    "from openforcefield.topology import Molecule\n",
    "acetylacetone = Molecule.from_smiles('O=C(C)CC(=O)C')\n",
    "print(acetylacetone)\n",
    "\n",
    "# I got the SMILES-code from:\n",
    "# https://en.wikipedia.org/wiki/Acetylacetone"
   ]
  },
  {
   "cell_type": "code",
   "execution_count": 269,
   "metadata": {
    "scrolled": true
   },
   "outputs": [
    {
     "name": "stdout",
     "output_type": "stream",
     "text": [
      "/home/jules/anaconda3/lib/python3.7/site-packages/openforcefield/data/Acetylacetone.pdb\n"
     ]
    }
   ],
   "source": [
    "print (pdb_file_path)"
   ]
  },
  {
   "cell_type": "code",
   "execution_count": 270,
   "metadata": {},
   "outputs": [
    {
     "name": "stderr",
     "output_type": "stream",
     "text": [
      "Warning: In AmberToolsToolkitwrapper.compute_partial_charges_am1bcc: Molecule '' has more than one conformer, but this function will only generate charges for the first one.\n"
     ]
    }
   ],
   "source": [
    "from openforcefield.topology import *\n",
    "from openforcefield.typing.engines.smirnoff import ForceField\n",
    "\n",
    "omm_topology =  pdbfile.topology\n",
    "off_topology = Topology.from_openmm(omm_topology, unique_molecules=[acetylacetone])\n",
    "\n",
    "forcefield = ForceField('openff-1.0.0.offxml')\n",
    "\n",
    "system = forcefield.create_openmm_system(off_topology)\n"
   ]
  },
  {
   "cell_type": "code",
   "execution_count": null,
   "metadata": {
    "scrolled": false
   },
   "outputs": [],
   "source": []
  },
  {
   "cell_type": "code",
   "execution_count": 271,
   "metadata": {},
   "outputs": [],
   "source": [
    "from simtk import *\n",
    "\n",
    "# Langevin Dynamics:\n",
    "time_step = 2*unit.femtoseconds\n",
    "temperature = 300*unit.kelvin\n",
    "friction = 1/unit.picosecond # collision rate\n",
    "integrator = openmm.LangevinIntegrator(temperature, friction, time_step)\n",
    "\n",
    "# Lenghth of simulation:\n",
    "num_steps = 1\n",
    "\n",
    "trj_freq = 1 # number of steps per written trajectory frame\n",
    "data_freq = 1 #number of steps per fritten simulation statistics\n",
    "\n",
    "# Set up OpenMM simulation:\n",
    "simulation = openmm.app.Simulation (omm_topology, system, integrator)\n",
    "\n",
    "# initial positions:\n",
    "positions = pdbfile.getPositions()\n",
    "simulation.context.setPositions(positions)\n",
    "\n",
    "# Randomize the velocities from a Boltzmann distribution at a given temperature.\n",
    "simulation.context.setVelocitiesToTemperature(temperature)\n",
    "\n",
    "# MINIMIZE ENERGY: I deleted this line to get the non-minimized values:\n",
    "simulation.minimizeEnergy()\n",
    "minimized_coords = simulation.context.getState(getPositions=True).getPositions()\n",
    "minimized_forces = simulation.context.getState(getForces=True).getForces()\n",
    "\n",
    "# Configure information in output files:\n",
    "pdb_reporter = openmm.app.PDBReporter('trajectory.pdb', trj_freq)\n",
    "state_data_reporter = openmm.app.StateDataReporter ('data.csv', data_freq, step=True, potentialEnergy=True, temperature=True, density=True)\n",
    "simulation.reporters.append (pdb_reporter)\n",
    "simulation.reporters.append (state_data_reporter)"
   ]
  },
  {
   "cell_type": "code",
   "execution_count": null,
   "metadata": {
    "scrolled": true
   },
   "outputs": [],
   "source": []
  },
  {
   "cell_type": "code",
   "execution_count": 272,
   "metadata": {},
   "outputs": [
    {
     "name": "stdout",
     "output_type": "stream",
     "text": [
      "Starting simulation\n",
      "Elapsed time 0.00 seconds\n",
      "Hurra!\n"
     ]
    }
   ],
   "source": [
    "import time\n",
    "\n",
    "print(\"Starting simulation\")\n",
    "start = time.process_time()\n",
    "\n",
    "# Run the simulation\n",
    "simulation.step(num_steps)\n",
    "\n",
    "end = time.process_time()\n",
    "print(\"Elapsed time %.2f seconds\" % (end-start))\n",
    "print(\"Hurra!\")"
   ]
  },
  {
   "cell_type": "code",
   "execution_count": 273,
   "metadata": {
    "scrolled": true
   },
   "outputs": [],
   "source": [
    "ff_applied_parameters = forcefield.label_molecules(off_topology)[0]\n",
    "ff_values=[]\n",
    "ff_valuefile = open ('ff_valuefile.txt', 'w+')\n",
    "\n",
    "for atoms, bonds in ff_applied_parameters['Bonds'].items():\n",
    "    ff_valuefile.write (F'{atoms},{bonds}')\n",
    "    ff_valuefile.write ('\\n')\n",
    "    \n",
    "ff_valuefile.close()"
   ]
  },
  {
   "cell_type": "code",
   "execution_count": 274,
   "metadata": {
    "scrolled": false
   },
   "outputs": [],
   "source": [
    "import numpy\n",
    "\n",
    "ff_valuefile = open ('ff_valuefile.txt', 'r')\n",
    "\n",
    "ff_valuetab = numpy.genfromtxt(fname=ff_valuefile, dtype='unicode', delimiter='Lenght')\n",
    "\n",
    "ff_valuefile.close\n",
    "\n",
    "man_atom_a = [0,1,1,2,2,2,3,3,3,4,4,6,6,6]\n",
    "man_atom_b = [1,2,3,7,8,9,4,10,11,5,6,12,13,14]"
   ]
  },
  {
   "cell_type": "code",
   "execution_count": null,
   "metadata": {
    "scrolled": false
   },
   "outputs": [],
   "source": []
  },
  {
   "cell_type": "code",
   "execution_count": 275,
   "metadata": {},
   "outputs": [
    {
     "name": "stdout",
     "output_type": "stream",
     "text": [
      "[['HETATM' '1' 'C1' 'P2D' 'A' '1' '2.270' '-0.167' '0.034' '1.00' '0.00'\n",
      "  'C']\n",
      " ['HETATM' '2' 'C2' 'P2D' 'A' '1' '1.029' '-0.816' '-0.557' '1.00' '0.00'\n",
      "  'C']\n",
      " ['HETATM' '3' 'C3' 'P2D' 'A' '1' '0.000' '-1.451' '0.295' '1.00' '0.00'\n",
      "  'C']\n",
      " ['HETATM' '4' 'C4' 'P2D' 'A' '1' '-1.032' '-0.394' '0.604' '1.00' '0.00'\n",
      "  'C']\n",
      " ['HETATM' '5' 'C5' 'P2D' 'A' '1' '-2.265' '-0.241' '-0.269' '1.00'\n",
      "  '0.00' 'C']\n",
      " ['HETATM' '6' 'O2' 'P2D' 'A' '1' '0.857' '-0.794' '-1.774' '1.00' '0.00'\n",
      "  'O']\n",
      " ['HETATM' '7' 'O4' 'P2D' 'A' '1' '-0.818' '0.399' '1.502' '1.00' '0.00'\n",
      "  'O']\n",
      " ['HETATM' '8' 'H1' 'P2D' 'A' '1' '2.791' '-0.886' '0.671' '1.00' '0.00'\n",
      "  'H']\n",
      " ['HETATM' '9' 'H2' 'P2D' 'A' '1' '2.887' '0.204' '-0.789' '1.00' '0.00'\n",
      "  'H']\n",
      " ['HETATM' '10' 'H3' 'P2D' 'A' '1' '1.959' '0.655' '0.683' '1.00' '0.00'\n",
      "  'H']\n",
      " ['HETATM' '11' 'H4' 'P2D' 'A' '1' '-0.437' '-2.312' '-0.217' '1.00'\n",
      "  '0.00' 'H']\n",
      " ['HETATM' '12' 'H5' 'P2D' 'A' '1' '0.437' '-1.807' '1.232' '1.00' '0.00'\n",
      "  'H']\n",
      " ['HETATM' '13' 'H6' 'P2D' 'A' '1' '-2.891' '-1.136' '-0.249' '1.00'\n",
      "  '0.00' 'H']\n",
      " ['HETATM' '14' 'H7' 'P2D' 'A' '1' '-2.836' '0.607' '0.118' '1.00' '0.00'\n",
      "  'H']\n",
      " ['HETATM' '15' 'H8' 'P2D' 'A' '1' '-1.975' '-0.023' '-1.300' '1.00'\n",
      "  '0.00' 'H']]\n"
     ]
    }
   ],
   "source": [
    "import numpy\n",
    "import os\n",
    "\n",
    "mincoorfile = os.path.join('trajectory.pdb')\n",
    "\n",
    "mincoor = numpy.genfromtxt(fname=mincoorfile, skip_header=2, skip_footer=2, dtype='unicode')\n",
    "\n",
    "print (mincoor)"
   ]
  },
  {
   "cell_type": "code",
   "execution_count": 276,
   "metadata": {},
   "outputs": [
    {
     "name": "stdout",
     "output_type": "stream",
     "text": [
      "[[ 2.27  -0.167  0.034]\n",
      " [ 1.029 -0.816 -0.557]\n",
      " [ 0.    -1.451  0.295]\n",
      " [-1.032 -0.394  0.604]\n",
      " [-2.265 -0.241 -0.269]\n",
      " [ 0.857 -0.794 -1.774]\n",
      " [-0.818  0.399  1.502]\n",
      " [ 2.791 -0.886  0.671]\n",
      " [ 2.887  0.204 -0.789]\n",
      " [ 1.959  0.655  0.683]\n",
      " [-0.437 -2.312 -0.217]\n",
      " [ 0.437 -1.807  1.232]\n",
      " [-2.891 -1.136 -0.249]\n",
      " [-2.836  0.607  0.118]\n",
      " [-1.975 -0.023 -1.3  ]]\n"
     ]
    }
   ],
   "source": [
    "xyz_data = mincoor[:,6:9]\n",
    "xyz_data = xyz_data.astype(numpy.float)\n",
    "print (xyz_data)\n",
    "\n",
    "xa = xyz_data[man_atom_a,0]\n",
    "xb = xyz_data[man_atom_b,0]\n",
    "ya = xyz_data[man_atom_a,1]\n",
    "yb = xyz_data[man_atom_b,1]\n",
    "za = xyz_data[man_atom_a,2]\n",
    "zb = xyz_data[man_atom_b,2]"
   ]
  },
  {
   "cell_type": "code",
   "execution_count": 277,
   "metadata": {},
   "outputs": [
    {
     "name": "stdout",
     "output_type": "stream",
     "text": [
      "[1.52005362 1.47917883 2.40285788 2.87233041 3.49983571 2.90231993\n",
      " 1.51849498 2.16951377 2.13281832 3.50966067 2.37483684 3.11762009\n",
      " 2.4558184  3.06070858]\n"
     ]
    }
   ],
   "source": [
    "bondlength_min=numpy.sqrt(((xa-xb)**2)+((ya-yb)**2)+((za-zb)**2))\n",
    "\n",
    "print (bondlength_min)    "
   ]
  },
  {
   "cell_type": "code",
   "execution_count": null,
   "metadata": {},
   "outputs": [],
   "source": []
  }
 ],
 "metadata": {
  "kernelspec": {
   "display_name": "Python 3",
   "language": "python",
   "name": "python3"
  },
  "language_info": {
   "codemirror_mode": {
    "name": "ipython",
    "version": 3
   },
   "file_extension": ".py",
   "mimetype": "text/x-python",
   "name": "python",
   "nbconvert_exporter": "python",
   "pygments_lexer": "ipython3",
   "version": "3.7.6"
  }
 },
 "nbformat": 4,
 "nbformat_minor": 4
}
